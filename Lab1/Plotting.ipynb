{
 "cells": [
  {
   "cell_type": "code",
   "execution_count": 35,
   "metadata": {},
   "outputs": [],
   "source": [
    "import matplotlib.pyplot as plt\n",
    "import numpy as np"
   ]
  },
  {
   "cell_type": "code",
   "execution_count": 47,
   "metadata": {},
   "outputs": [],
   "source": [
    "import timeit\n",
    "\n",
    "\n",
    "def main(i):\n",
    "    arr = open(\"number1000.txt\").read().split()  # Replace test file here\n",
    "    for i in range(0, len(arr)):\n",
    "        arr[i] = int(arr[i])\n",
    "    #print(arr)\n",
    "    time_start = timeit.default_timer()\n",
    "    comparisons = mergesort(arr, 0, len(arr) - 1, i)\n",
    "    time_stop = timeit.default_timer()\n",
    "    #print(arr)\n",
    "    #print(\"Time elapsed for program: \", (time_stop - time_start) * 1000, \"milliseconds\")  # Time in milliseconds\n",
    "    #print(\"Number of comparisons: \", comparisons)\n",
    "    return (time_stop-time_start)*1000\n",
    "\n",
    "\n",
    "def mergesort(arr, n, m, i):\n",
    "    x = y = z = comparisons = 0\n",
    "    mid = (n + m) // 2\n",
    "    if m - n <= i:  # insert S here\n",
    "        z = insertionSort(arr, n, m)  # code here is changed to perform insertion sort below S elements\n",
    "    elif m - n > i:  # insert S here\n",
    "        x = mergesort(arr, n, mid)\n",
    "        y = mergesort(arr, mid + 1, m)\n",
    "        comparisons = merge(arr, n, m)\n",
    "\n",
    "    return comparisons+x+y+z\n",
    "\n",
    "\n",
    "def merge(arr, n, m):\n",
    "    comparisons = 0\n",
    "    \n",
    "    if m - n <= 0:\n",
    "        return 1\n",
    "    \n",
    "    mid = (n + m) // 2\n",
    "    left = arr[n:mid + 1]\n",
    "    right = arr[mid + 1:m + 1]\n",
    "    while len(left) != 0 and len(right) != 0:\n",
    "        comparisons+=1\n",
    "        if left[0] < right[0]:\n",
    "            arr[n] = left[0]\n",
    "            left.pop(0)\n",
    "        elif left[0] > right[0]:\n",
    "            arr[n] = right[0]\n",
    "            right.pop(0)\n",
    "        elif left[0] == right[0]:\n",
    "            arr[n] = left[0]\n",
    "            n += 1\n",
    "            arr[n] = right[0]\n",
    "            left.pop(0)\n",
    "            right.pop(0)\n",
    "        n += 1\n",
    "\n",
    "    if len(left) != 0:\n",
    "        while len(left) != 0:\n",
    "            arr[n] = left[0]\n",
    "            left.pop(0)\n",
    "            n += 1\n",
    "    elif len(right) != 0:\n",
    "        while len(right) != 0:\n",
    "            arr[n] = right[0]\n",
    "            right.pop(0)\n",
    "            n += 1\n",
    "\n",
    "    return comparisons\n",
    "\n",
    "\n",
    "def insertionSort(arr, n, m):\n",
    "    comparisons = 0\n",
    "    for i in range(n, m + 1):\n",
    "        key = arr[i]\n",
    "        j = i - 1\n",
    "        while j >= n and key < arr[j]:\n",
    "            comparisons+=1\n",
    "            arr[j + 1] = arr[j]\n",
    "            j -= 1\n",
    "        arr[j + 1] = key\n",
    "\n",
    "    return comparisons\n",
    "\n",
    "mytimings = []\n",
    "mysvalue = []\n",
    "for i in range(10,100):\n",
    "    #print(i)\n",
    "    timing = main(i)\n",
    "    mysvalue.append(i)\n",
    "    mytimings.append(timing)"
   ]
  },
  {
   "cell_type": "code",
   "execution_count": 48,
   "metadata": {},
   "outputs": [
    {
     "data": {
      "image/png": "[encoded data removed]",
      "text/plain": [
       "<Figure size 432x288 with 1 Axes>"
      ]
     },
     "metadata": {
      "needs_background": "light"
     },
     "output_type": "display_data"
    }
   ],
   "source": [
    "x = mysvalue\n",
    "y = mytimings\n",
    "plt.plot(x,y)\n",
    "plt.xticks(np.arange(min(x), max(x)+1, 10))\n",
    "plt.show()"
   ]
  },
  {
   "cell_type": "code",
   "execution_count": null,
   "metadata": {},
   "outputs": [],
   "source": []
  }
 ],
 "metadata": {
  "kernelspec": {
   "display_name": "Python 3",
   "language": "python",
   "name": "python3"
  },
  "language_info": {
   "codemirror_mode": {
    "name": "ipython",
    "version": 3
   },
   "file_extension": ".py",
   "mimetype": "text/x-python",
   "name": "python",
   "nbconvert_exporter": "python",
   "pygments_lexer": "ipython3",
   "version": "3.8.5"
  }
 },
 "nbformat": 4,
 "nbformat_minor": 4
}
